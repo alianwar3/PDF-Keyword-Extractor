{
 "cells": [
  {
   "cell_type": "markdown",
   "metadata": {},
   "source": [
    "# The purpose of this script is to extract top keywords from a PDF style document"
   ]
  },
  {
   "cell_type": "markdown",
   "metadata": {},
   "source": [
    "Use case: \n",
    "<br>\n",
    "-Understand content of report / document\n",
    "<br>\n",
    "-Derive keywords for SEO\n",
    "<br>\n",
    "-Display relevant material to show for user when searching for a particlar document on a website\n",
    "<br>\n",
    "-Keywords can help analyze a paper in a greater qualitative context",
    "<br>\n",
    "-Detrive keywords for sentiment analysis"
   ]
  },
  {
   "cell_type": "code",
   "execution_count": 66,
   "metadata": {},
   "outputs": [],
   "source": [
    "import PyPDF4\n",
    "import re\n",
    "import matplotlib.pyplot as plt\n",
    "from collections import Counter"
   ]
  },
  {
   "cell_type": "code",
   "execution_count": 67,
   "metadata": {},
   "outputs": [],
   "source": [
    "# Read pdf document\n",
    "with open('2020-tesla-impact-report.pdf', 'rb') as file:\n",
    "    read = PyPDF4.PdfFileReader(file)\n",
    "    total_pages = read.numPages\n",
    "    text = \"\"\n",
    "\n",
    "    # Loop through pdf and extract text from each page\n",
    "    for page_number in range(total_pages):\n",
    "        page = read.getPage(page_number)\n",
    "        text += page.extractText()\n",
    "    \n",
    "    # Store individual text items into list\n",
    "    text_list = text.split()"
   ]
  },
  {
   "cell_type": "code",
   "execution_count": 68,
   "metadata": {},
   "outputs": [],
   "source": [
    "# Organize word data \n",
    "text_list_remove_punc = []\n",
    "stopwords = ['', '&', 'A', 'Across', 'All', 'Also', 'An', 'And', 'Are', 'As', 'At', 'Be', 'By', 'Can', 'Do', 'For', \n",
    "                'From', 'Has', 'Have', 'How', 'In', 'Include', 'Including', 'Is', 'It', 'Its', 'May', 'More', 'Not', 'Of', \n",
    "                'On', 'Or', 'Other', 'Our', 'Over', 'RBC', 'Rbc', 'Such', 'Than', 'That', 'The', 'Their', 'These', 'They', \n",
    "                'This', 'Through', 'To', 'Us', 'Was', 'We', 'Were', 'Where', 'Which', 'Who', 'Will', 'With', 'a', 'across', \n",
    "                'all', 'also', 'an', 'and', 'are', 'as', 'at', 'be', 'by', 'can', 'do', 'for', 'from', 'has', 'have', 'how', \n",
    "                'in', 'include', 'including', 'is', 'it', 'its', 'may', 'more', 'not', 'of', 'on', 'or', 'other', 'our', 'over', \n",
    "                'such', 'than', 'that', 'the', 'their', 'these', 'they', 'this', 'through', 'to', 'us', 'was', 'we', 'were', 'where', \n",
    "                'which', 'who', 'will', 'with', 'Œ']\n",
    "\n",
    "# Remove all punctuation from string in list\n",
    "for i in text_list:\n",
    "    new_string = re.sub(r'[^\\w\\s]', '', i)\n",
    "    text_list_remove_punc.append(new_string)\n",
    "\n",
    "# Clear the original text_list list\n",
    "text_list.clear()\n",
    "\n",
    "# Remove common words and instances of integers in list\n",
    "for i, x in enumerate(text_list_remove_punc):\n",
    "    if (x not in stopwords) and (not x.isdigit()) and (len(x) > 2):\n",
    "        text_list.append(x.capitalize())"
   ]
  },
  {
   "cell_type": "code",
   "execution_count": 69,
   "metadata": {},
   "outputs": [
    {
     "name": "stdout",
     "output_type": "stream",
     "text": [
      "Keywords: 20\n",
      "Frequencies: 20\n"
     ]
    }
   ],
   "source": [
    "# Organize keywords\n",
    "keywords = []\n",
    "frequencies = []\n",
    "\n",
    "# Find most common word w/ frequency\n",
    "Counter = Counter(text_list)\n",
    "most_repeated = Counter.most_common(20)\n",
    "\n",
    "\n",
    "for i in most_repeated:\n",
    "    keywords.append(i[0])\n",
    "    frequencies.append(i[1])\n",
    "    \n",
    "print('Keywords:', len(keywords))\n",
    "print('Frequencies:', len(frequencies))"
   ]
  },
  {
   "cell_type": "code",
   "execution_count": 70,
   "metadata": {},
   "outputs": [
    {
     "data": {
      "image/png": "[encoded data removed]",
      "text/plain": [
       "<Figure size 720x360 with 1 Axes>"
      ]
     },
     "metadata": {
      "needs_background": "light"
     },
     "output_type": "display_data"
    }
   ],
   "source": [
    "# Plot results into bar chart\n",
    "\n",
    "# Change font\n",
    "plt.rcParams.update({'font.family':'monospace'})\n",
    "\n",
    "# Add data to graph\n",
    "fig, ax = plt.subplots(figsize = (10, 5))\n",
    "bars = ax.barh(keywords, frequencies, color = ('steelblue'))\n",
    "\n",
    "# Add value labels\n",
    "ax.bar_label(bars, padding = 4)\n",
    "\n",
    "# Label title / x-axis / y-axis\n",
    "plt.title(r\"$\\bf{\" + str(\"Top \\ Keywords\") + \"}$\", fontsize = 12, pad = 10)\n",
    "plt.xlabel(r\"$\\bf{\" + str(\"Frequency \\ Rate\") + \"}$\", fontsize = 10, labelpad = 6)\n",
    "plt.ylabel(r\"$\\bf{\" + str(\"Keywords\") + \"}$\", fontsize = 10, labelpad = 6)\n",
    "\n",
    "# Set size of graph\n",
    "plt.show()"
   ]
  }
 ],
 "metadata": {
  "interpreter": {
   "hash": "cc8489b3d34c72efe9462d58687daf612e16649ffc1c9de69cffb91d78f65db4"
  },
  "kernelspec": {
   "display_name": "Python 3.10.0 64-bit",
   "language": "python",
   "name": "python3"
  },
  "language_info": {
   "codemirror_mode": {
    "name": "ipython",
    "version": 3
   },
   "file_extension": ".py",
   "mimetype": "text/x-python",
   "name": "python",
   "nbconvert_exporter": "python",
   "pygments_lexer": "ipython3",
   "version": "3.10.0"
  },
  "orig_nbformat": 4
 },
 "nbformat": 4,
 "nbformat_minor": 2
}
